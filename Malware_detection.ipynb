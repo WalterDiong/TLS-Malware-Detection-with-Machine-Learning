{
 "cells": [
  {
   "cell_type": "code",
   "execution_count": 65,
   "metadata": {},
   "outputs": [],
   "source": [
    "import pandas as pd\n",
    "from math import sqrt;\n",
    "from sklearn import preprocessing\n",
    "from sklearn.ensemble import RandomForestClassifier\n",
    "from sklearn.linear_model import LogisticRegression;\n",
    "from sklearn.metrics import accuracy_score, r2_score, confusion_matrix, mean_absolute_error, mean_squared_error, f1_score, log_loss\n",
    "from sklearn.model_selection import train_test_split\n",
    "import numpy as np\n",
    "import matplotlib.pyplot as plt\n",
    "import seaborn as sns \n",
    "from sklearn.externals import joblib "
   ]
  },
  {
   "cell_type": "code",
   "execution_count": 66,
   "metadata": {},
   "outputs": [
    {
     "name": "stdout",
     "output_type": "stream",
     "text": [
      "False    62604\n",
      "dtype: int64\n",
      "False    16467\n",
      "dtype: int64\n",
      "Src_Port     0.0\n",
      "Dst_Port     0.0\n",
      "Bytes_in     0.0\n",
      "Bytes_out    0.0\n",
      "Pkts_in      0.0\n",
      "            ... \n",
      "sg_24        0.0\n",
      "sg_25        0.0\n",
      "ec_pts_0     0.0\n",
      "ec_pts_1     0.0\n",
      "isMalware    0.0\n",
      "Length: 439, dtype: float64\n",
      "0    55436\n",
      "1    14564\n",
      "Name: isMalware, dtype: int64\n"
     ]
    }
   ],
   "source": [
    "#Importing Datasets \n",
    "malicious_dataset = pd.read_csv('insert malicious file name.csv')\n",
    "benign_dataset = pd.read_csv('insert benign file name.csv')\n",
    "\n",
    "# Removing duplicated rows from benign_dataset (5380 rows removed)\n",
    "benign_dataset = benign_dataset[benign_dataset.duplicated(keep=False) == False]\n",
    "\n",
    "print(benign_dataset.duplicated(keep=False).value_counts())\n",
    "print(malicious_dataset.duplicated(keep=False).value_counts())\n",
    "\n",
    "# Combining both datasets together\n",
    "all_flows = pd.concat([malicious_dataset, benign_dataset])\n",
    "\n",
    "#Inspecting datasets for columns and rows with missing values\n",
    "missing_values = all_flows.isnull().sum()\n",
    "overall_percentage = (missing_values/all_flows.isnull().count())\n",
    "print(overall_percentage)\n",
    "\n",
    "# Reducing the size of the dataset to reduce the amount of time taken in training models\n",
    "reduced_dataset = all_flows.sample(78000)\n",
    "\n",
    "validation_dataset = pd.read_csv('insert validation file name')\n",
    "validation_dataset = validation_dataset[validation_dataset.duplicated(keep=False) == False]\n",
    "\n",
    "# Examining the distribution of Malicious and Benign flows in the reduced dataset \n",
    "print(reduced_dataset['isMalware'].value_counts())"
   ]
  },
  {
   "cell_type": "code",
   "execution_count": 67,
   "metadata": {},
   "outputs": [],
   "source": [
    "# Isolating independent and dependent variables for training dataset\n",
    "reduced_y = reduced_dataset['isMalware']\n",
    "reduced_x = reduced_dataset.drop(['isMalware'], axis=1);\n",
    "\n",
    "# Isolating independent and dependent variables for validation dataset\n",
    "validation_y = validation_dataset['isMalware']\n",
    "validation_x = validation_dataset.drop(['isMalware'], axis=1);\n",
    "\n",
    "# Splitting datasets into training and test data\n",
    "x_train, x_test, y_train, y_test = train_test_split(reduced_x, reduced_y, test_size=0.2, random_state=42)"
   ]
  },
  {
   "cell_type": "code",
   "execution_count": 68,
   "metadata": {},
   "outputs": [
    {
     "name": "stdout",
     "output_type": "stream",
     "text": [
      "[[11065     0]\n",
      " [    4  2931]]\n",
      "Random Forest Classifier Accuracy score:  0.9997142857142857\n",
      "Random Forest Classifier with validation set Accuracy score:  0.9999551468939224\n"
     ]
    }
   ],
   "source": [
    "# Training random forest classifier\n",
    "rf_clf = RandomForestClassifier(max_depth=100)\n",
    "rf_clf.fit(x_train, y_train) \n",
    "rf_prediction = rf_clf.predict(x_test)\n",
    "conf_m = confusion_matrix(y_test, rf_prediction)  \n",
    "print(conf_m)\n",
    "print('Random Forest Classifier Accuracy score: ', accuracy_score(y_test, rf_prediction))\n",
    "\n",
    "rf_validation_prediction = rf_clf.predict(validation_x)\n",
    "print('Random Forest Classifier with validation set Accuracy score: ', accuracy_score(rf_validation_prediction, validation_y))"
   ]
  },
  {
   "cell_type": "code",
   "execution_count": 69,
   "metadata": {},
   "outputs": [
    {
     "name": "stdout",
     "output_type": "stream",
     "text": [
      "Mean Absolute Error:  0.004857142857142857\n",
      "Root Mean Squared Error:  0.06969320524371696\n",
      "R Squared Score:  0.9706858419852952\n",
      "Accuracy score:  0.9951428571428571\n"
     ]
    }
   ],
   "source": [
    "# Training Logistics Regression classifier\n",
    "lm = LogisticRegression(max_iter=70000)\n",
    "lm.fit(x_train,y_train)\n",
    "predictions = lm.predict(x_test)\n",
    "rms = sqrt(mean_squared_error(y_test, predictions))\n",
    "print('Mean Absolute Error: ', mean_absolute_error(y_test, predictions))\n",
    "print('Root Mean Squared Error: ',rms)\n",
    "print('R Squared Score: ', r2_score(y_test, predictions))\n",
    "print('Accuracy score: ', accuracy_score(predictions, y_test))"
   ]
  },
  {
   "cell_type": "code",
   "execution_count": 70,
   "metadata": {},
   "outputs": [
    {
     "name": "stdout",
     "output_type": "stream",
     "text": [
      "Mean Absolute Error:  0.0033639829558196905\n",
      "Root Mean Squared Error:  0.05799985306722501\n",
      "R Squared Score:  0.0\n",
      "Accuracy score:  0.9966360170441803\n"
     ]
    }
   ],
   "source": [
    "#Testing the accuracy of the logistic regression model on the validation dataset\n",
    "validation_predictions = lm.predict(validation_x)\n",
    "rms = sqrt(mean_squared_error(validation_y, validation_predictions))\n",
    "print('Mean Absolute Error: ', mean_absolute_error(validation_y, validation_predictions))\n",
    "print('Root Mean Squared Error: ',rms)\n",
    "print('R Squared Score: ', r2_score(validation_y, validation_predictions))\n",
    "print('Accuracy score: ', accuracy_score(validation_predictions, validation_y))"
   ]
  },
  {
   "cell_type": "code",
   "execution_count": 71,
   "metadata": {},
   "outputs": [
    {
     "name": "stdout",
     "output_type": "stream",
     "text": [
      "[[11039    26]\n",
      " [   42  2893]]\n"
     ]
    }
   ],
   "source": [
    "#Confusion matrix for test set accuracy\n",
    "conf_m_lr = confusion_matrix(y_test, predictions)  \n",
    "print(conf_m_lr)"
   ]
  },
  {
   "cell_type": "code",
   "execution_count": 72,
   "metadata": {},
   "outputs": [
    {
     "name": "stdout",
     "output_type": "stream",
     "text": [
      "False    16467\n",
      "dtype: int64\n"
     ]
    }
   ],
   "source": [
    "# Importing cipher stunted datasets \n",
    "cipher_stunted_dataset = pd.read_csv('Insert cipher stunted file name')\n",
    "\n",
    "# Removing duplicated rows from benign_dataset_test\n",
    "cipher_stunted_dataset = cipher_stunted_dataset[cipher_stunted_dataset.duplicated(keep=False) == False]\n",
    "\n",
    "print(cipher_stunted_dataset.duplicated(keep=False).value_counts())\n",
    "\n",
    "#Inspecting datasets for columns and rows with missing values\n",
    "test_missing_values = cipher_stunted_dataset.isnull().sum()\n",
    "test_overall_percentage = (test_missing_values/cipher_stunted_dataset.isnull().count())\n",
    "\n",
    "cs_test_x, cs_test_y = cipher_stunted_dataset.drop(['isMalware'], axis=1), cipher_stunted_dataset['isMalware']"
   ]
  },
  {
   "cell_type": "code",
   "execution_count": 73,
   "metadata": {},
   "outputs": [],
   "source": [
    "cs_test_predictions = lm.predict(cs_test_x)\n",
    "#print(test_predictions)"
   ]
  },
  {
   "cell_type": "code",
   "execution_count": 74,
   "metadata": {},
   "outputs": [
    {
     "name": "stdout",
     "output_type": "stream",
     "text": [
      "[[    0     0]\n",
      " [16460     7]]\n"
     ]
    }
   ],
   "source": [
    "conf_m_lr_cs = confusion_matrix(cs_test_y, cs_test_predictions)  \n",
    "print(conf_m_lr_cs)"
   ]
  },
  {
   "cell_type": "code",
   "execution_count": 75,
   "metadata": {},
   "outputs": [
    {
     "name": "stdout",
     "output_type": "stream",
     "text": [
      "Logistics Regression Accuracy score:  0.0004250926094613469\n"
     ]
    }
   ],
   "source": [
    "print('Logistics Regression Accuracy score: ', accuracy_score(cs_test_predictions, cs_test_y))"
   ]
  },
  {
   "cell_type": "code",
   "execution_count": 76,
   "metadata": {},
   "outputs": [
    {
     "name": "stdout",
     "output_type": "stream",
     "text": [
      "Random Forest Classifier Accuracy score:  1.0\n"
     ]
    }
   ],
   "source": [
    "rf_validation_prediction_2 = rf_clf.predict(cs_test_x)\n",
    "print('Random Forest Classifier Accuracy score: ', accuracy_score(rf_validation_prediction_2, cs_test_y))"
   ]
  },
  {
   "cell_type": "code",
   "execution_count": 77,
   "metadata": {},
   "outputs": [
    {
     "name": "stdout",
     "output_type": "stream",
     "text": [
      "[[16467]]\n"
     ]
    }
   ],
   "source": [
    "conf_m_lr_cs = confusion_matrix(cs_test_y, rf_validation_prediction_2)  \n",
    "print(conf_m_lr_cs)"
   ]
  },
  {
   "cell_type": "code",
   "execution_count": 78,
   "metadata": {},
   "outputs": [],
   "source": [
    "#Function to plot most important features of random forest model\n",
    "\n",
    "def plot_feature_importance(importance,names,model_type):\n",
    "\n",
    "    #Create arrays from feature importance and feature names\n",
    "    feature_importance = np.array(importance)\n",
    "    feature_names = np.array(names)\n",
    "\n",
    "    #Create a DataFrame using a Dictionary\n",
    "    data={'feature_names':feature_names,'feature_importance':feature_importance}\n",
    "    fi_df = pd.DataFrame(data)\n",
    "\n",
    "    #Sort the DataFrame in order decreasing feature importance\n",
    "    fi_df.sort_values(by=['feature_importance'], ascending=False,inplace=True)\n",
    "\n",
    "    #Define size of bar plot\n",
    "    plt.figure(figsize=(10,8))\n",
    "    #Plot Searborn bar chart\n",
    "    sns.barplot(x=fi_df['feature_importance'], y=fi_df['feature_names'])\n",
    "    plt.ylim(0, 50)\n",
    "    #Add chart labels\n",
    "    plt.title(model_type + 'FEATURE IMPORTANCE')\n",
    "    plt.xlabel('FEATURE IMPORTANCE')\n",
    "    plt.ylabel('FEATURE NAMES')\n"
   ]
  },
  {
   "cell_type": "code",
   "execution_count": 79,
   "metadata": {},
   "outputs": [
    {
     "data": {
      "image/png": "[encoded data removed]",
      "text/plain": [
       "<Figure size 720x576 with 1 Axes>"
      ]
     },
     "metadata": {
      "needs_background": "light"
     },
     "output_type": "display_data"
    }
   ],
   "source": [
    "plot_feature_importance(rf_clf.feature_importances_,x_train.columns,'RANDOM FOREST') \n"
   ]
  },
  {
   "cell_type": "code",
   "execution_count": 80,
   "metadata": {},
   "outputs": [
    {
     "data": {
      "image/png": "[encoded data removed]",
      "text/plain": [
       "<Figure size 800x560 with 1 Axes>"
      ]
     },
     "metadata": {
      "needs_background": "light"
     },
     "output_type": "display_data"
    }
   ],
   "source": [
    "x1 = reduced_dataset.loc[reduced_dataset.isMalware==1, 'num_of_exts']\n",
    "x2 = reduced_dataset.loc[reduced_dataset.isMalware==0, 'num_of_exts']\n",
    "\n",
    "kwargs = dict(hist_kws={'alpha':.6}, kde_kws={'linewidth':2})\n",
    "\n",
    "plt.figure(figsize=(10,7), dpi= 80)\n",
    "sns.distplot(x1, color=\"royalblue\", label=\"Malware\", **kwargs, kde=False)\n",
    "sns.distplot(x2, color=\"orange\", label=\"Benign\", **kwargs, kde=False)\n",
    "\n",
    "plt.legend();\n",
    "plt.show()"
   ]
  },
  {
   "cell_type": "code",
   "execution_count": 81,
   "metadata": {},
   "outputs": [
    {
     "data": {
      "image/png": "[encoded data removed]",
      "text/plain": [
       "<Figure size 800x560 with 1 Axes>"
      ]
     },
     "metadata": {
      "needs_background": "light"
     },
     "output_type": "display_data"
    }
   ],
   "source": [
    "x1 = reduced_dataset.loc[reduced_dataset.isMalware==1, 'Src_Port']\n",
    "x2 = reduced_dataset.loc[reduced_dataset.isMalware==0, 'Src_Port']\n",
    "\n",
    "kwargs = dict(hist_kws={'alpha':.6}, kde_kws={'linewidth':2})\n",
    "\n",
    "plt.figure(figsize=(10,7), dpi= 80)\n",
    "sns.distplot(x1, color=\"royalblue\", label=\"Malware\", **kwargs, kde=False)\n",
    "sns.distplot(x2, color=\"orange\", label=\"Benign\", **kwargs, kde=False)\n",
    "\n",
    "plt.legend();\n",
    "plt.show()"
   ]
  },
  {
   "cell_type": "code",
   "execution_count": 82,
   "metadata": {},
   "outputs": [
    {
     "name": "stdout",
     "output_type": "stream",
     "text": [
      "Random Forest Classifier Accuracy score:  0.9951428571428571\n"
     ]
    }
   ],
   "source": [
    "#Saving the random forest and logistics regression models\n",
    "joblib.dump(rf_clf, 'random_forest_model.pkl')\n",
    "joblib.dump(lm, 'logistics_regression_classifier.pkl')\n",
    "\n",
    "# Load the model from the file\n",
    "rf_from_joblib = joblib.load('random_forest_model.pkl')\n",
    "lm_from_joblib = joblib.load('logistics_regression_classifier.pkl') \n",
    "\n",
    "# Use the loaded model to make predictions\n",
    "results = rf_from_joblib.predict(x_test)\n",
    "results = lm_from_joblib.predict(x_test)\n",
    "print('Random Forest Classifier Accuracy score: ', accuracy_score(y_test, results))"
   ]
  },
  {
   "cell_type": "code",
   "execution_count": 83,
   "metadata": {},
   "outputs": [],
   "source": [
    "# Load the model from the file\n",
    "rf_from_joblib = joblib.load('random_forest_model.pkl')"
   ]
  },
  {
   "cell_type": "code",
   "execution_count": 85,
   "metadata": {},
   "outputs": [
    {
     "name": "stdout",
     "output_type": "stream",
     "text": [
      "Random Forest Classifier Accuracy score:  0.8588692536588328\n"
     ]
    }
   ],
   "source": [
    "#Cipher and extension stunded dataset tests\n",
    "cs_ex_stunted_dataset = pd.read_csv('Insert cipher stunted file name')\n",
    "cs_ex_stunted_dataset = cs_ex_stunted_dataset[cs_ex_stunted_dataset.duplicated(keep=False) == False]\n",
    "cs_ex_test_x, cs_ex_test_y = cs_ex_stunted_dataset.drop(['isMalware'], axis=1), cs_ex_stunted_dataset['isMalware']\n",
    "results = rf_from_joblib.predict(cs_ex_test_x)\n",
    "print('Random Forest Classifier Accuracy score: ', accuracy_score(cs_ex_test_y, results))"
   ]
  },
  {
   "cell_type": "code",
   "execution_count": 86,
   "metadata": {},
   "outputs": [
    {
     "name": "stdout",
     "output_type": "stream",
     "text": [
      "Random Forest Classifier Accuracy score:  0.5675593611465355\n"
     ]
    }
   ],
   "source": [
    "#Cipher, extension, and source port stunted results\n",
    "cs_ex_sp_stunted_dataset = pd.read_csv('Insert cipher stunted file name')\n",
    "cs_ex_sp_stunted_dataset = cs_ex_sp_stunted_dataset[cs_ex_sp_stunted_dataset.duplicated(keep=False) == False]\n",
    "cs_ex_sp_test_x, cs_ex_sp_test_y = cs_ex_sp_stunted_dataset.drop(['isMalware'], axis=1), cs_ex_sp_stunted_dataset['isMalware']\n",
    "results = rf_from_joblib.predict(cs_ex_sp_test_x)\n",
    "print('Random Forest Classifier Accuracy score: ', accuracy_score(cs_ex_sp_test_y, results))"
   ]
  },
  {
   "cell_type": "code",
   "execution_count": 87,
   "metadata": {},
   "outputs": [
    {
     "name": "stdout",
     "output_type": "stream",
     "text": [
      "Random Forest Classifier Accuracy score:  0.6059998785449687\n"
     ]
    }
   ],
   "source": [
    "#Cipher, extension, source port, and packet out stunted results\n",
    "cs_ex_sp_po_stunted_dataset = pd.read_csv('Insert cipher stunted file name')\n",
    "cs_ex_sp_po_stunted_dataset = cs_ex_sp_po_stunted_dataset[cs_ex_sp_po_stunted_dataset.duplicated(keep=False) == False]\n",
    "cs_ex_sp_po_test_x, cs_ex_sp_po_test_y = cs_ex_sp_po_stunted_dataset.drop(['isMalware'], axis=1), cs_ex_sp_po_stunted_dataset['isMalware']\n",
    "results = rf_from_joblib.predict(cs_ex_sp_po_test_x)\n",
    "print('Random Forest Classifier Accuracy score: ', accuracy_score(cs_ex_sp_po_test_y, results))"
   ]
  },
  {
   "cell_type": "code",
   "execution_count": 88,
   "metadata": {},
   "outputs": [],
   "source": [
    "#Training new models with original and cipher stunted data"
   ]
  },
  {
   "cell_type": "code",
   "execution_count": 89,
   "metadata": {},
   "outputs": [
    {
     "name": "stdout",
     "output_type": "stream",
     "text": [
      "1    82335\n",
      "0    62604\n",
      "Name: isMalware, dtype: int64\n"
     ]
    }
   ],
   "source": [
    "# Combining all datasets together\n",
    "new_all_flows = pd.concat([malicious_dataset, benign_dataset, cipher_stunted_dataset, cs_ex_stunted_dataset, cs_ex_sp_stunted_dataset, cs_ex_sp_po_stunted_dataset])\n",
    "\n",
    "# Examining combined dataset\n",
    "print(new_all_flows['isMalware'].value_counts())"
   ]
  },
  {
   "cell_type": "code",
   "execution_count": 90,
   "metadata": {},
   "outputs": [],
   "source": [
    "# Isolating independent and dependent variables for new combined dataset\n",
    "new_all_flows_y = new_all_flows['isMalware']\n",
    "new_all_flows_x = new_all_flows.drop(['isMalware'], axis=1);\n",
    "\n",
    "# Splitting datasets into training and test data\n",
    "combined_x_train, combined_x_test, combined_y_train, combined_y_test = train_test_split(new_all_flows_x, new_all_flows_y, test_size=0.2, random_state=42)"
   ]
  },
  {
   "cell_type": "code",
   "execution_count": 91,
   "metadata": {},
   "outputs": [
    {
     "name": "stdout",
     "output_type": "stream",
     "text": [
      "[[12541     0]\n",
      " [   10 16437]]\n",
      "Random Forest Classifier Accuracy score:  0.9996550296674486\n"
     ]
    }
   ],
   "source": [
    "#Training new RF classifier\n",
    "combined_rf_clf = RandomForestClassifier(max_depth=100)\n",
    "combined_rf_clf.fit(combined_x_train, combined_y_train) \n",
    "combined_rf_prediction = combined_rf_clf.predict(combined_x_test)\n",
    "combined_conf_m = confusion_matrix(combined_y_test, combined_rf_prediction)  \n",
    "print(combined_conf_m)\n",
    "print('Random Forest Classifier Accuracy score: ', accuracy_score(combined_y_test, combined_rf_prediction))"
   ]
  },
  {
   "cell_type": "code",
   "execution_count": null,
   "metadata": {},
   "outputs": [],
   "source": [
    "# Testing combined Logistics Regression classifier on datasets\n",
    "combined_lm = LogisticRegression(max_iter=100000)\n",
    "combined_lm.fit(combined_x_train,combined_y_train)\n",
    "combined_lm_predictions = combined_lm.predict(combined_x_test)\n",
    "combined_rms = sqrt(mean_squared_error(combined_y_test, combined_lm_predictions))\n",
    "print('Mean Absolute Error: ', mean_absolute_error(combined_y_test, combined_lm_predictions))\n",
    "print('Root Mean Squared Error: ',combined_rms)\n",
    "print('R Squared Score: ', r2_score(combined_y_test, combined_lm_predictions))\n",
    "print('Accuracy score: ', accuracy_score(combined_lm_predictions, combined_y_test))"
   ]
  },
  {
   "cell_type": "code",
   "execution_count": null,
   "metadata": {},
   "outputs": [],
   "source": [
    "combined_rf_prediction_2 = combined_rf_clf.predict(sample_benign_flows_x)\n",
    "\n",
    "combined_lm_predictions_2 = combined_lm.predict(sample_benign_flows_x)\n",
    "\n",
    "# Testing on unseen sample benign dataset for combined rf classifier\n",
    "print('Random Forest Classifier Accuracy score: ', accuracy_score(sample_benign_flows_y, combined_rf_prediction_2))\n",
    "\n",
    "# Testing on unseen sample benign dataset for logistics regression classifier\n",
    "print('Random Forest Classifier Accuracy score: ', accuracy_score(sample_benign_flows_y, combined_lm_predictions_2))"
   ]
  },
  {
   "cell_type": "code",
   "execution_count": null,
   "metadata": {},
   "outputs": [],
   "source": [
    "#Cipher stunted results\n",
    "new_cs_stunted_dataset = pd.read_csv('Insert cipher stunted file name')\n",
    "new_cs_stunted_dataset = new_cs_stunted_dataset[new_cs_stunted_dataset.duplicated(keep=False) == False]\n",
    "new_cs_stunted_dataset_x, new_cs_stunted_dataset_y = new_cs_stunted_dataset.drop(['isMalware'], axis=1), new_cs_stunted_dataset['isMalware']\n",
    "results = combined_rf_clf.predict(new_cs_stunted_dataset_x)\n",
    "print('Random Forest Classifier Accuracy score: ', accuracy_score(new_cs_stunted_dataset_y, results))"
   ]
  },
  {
   "cell_type": "code",
   "execution_count": null,
   "metadata": {},
   "outputs": [],
   "source": [
    "#Cipher and extension stunted results\n",
    "new_cs_ex_stunted_dataset = pd.read_csv('Insert cipher stunted file name')\n",
    "new_cs_ex_stunted_dataset = new_cs_ex_stunted_dataset[new_cs_ex_stunted_dataset.duplicated(keep=False) == False]\n",
    "new_cs_ex_stunted_dataset_x, new_cs_ex_stunted_dataset_y = new_cs_ex_stunted_dataset.drop(['isMalware'], axis=1), new_cs_ex_stunted_dataset['isMalware']\n",
    "results = combined_rf_clf.predict(new_cs_ex_stunted_dataset_x)\n",
    "print('Random Forest Classifier Accuracy score: ', accuracy_score(new_cs_ex_stunted_dataset_y, results))"
   ]
  },
  {
   "cell_type": "code",
   "execution_count": null,
   "metadata": {},
   "outputs": [],
   "source": [
    "#Cipher, extension, and source port stunted results\n",
    "new_cs_ex_sp_stunted_malicious_dataset = pd.read_csv('Insert cipher stunted file name')\n",
    "new_cs_ex_sp_stunted_malicious_dataset = new_cs_ex_sp_stunted_malicious_dataset[new_cs_ex_sp_stunted_malicious_dataset.duplicated(keep=False) == False]\n",
    "new_cs_ex_sp_stunted_malicious_dataset_x, new_cs_ex_sp_stunted_malicious_dataset_y = new_cs_ex_sp_stunted_malicious_dataset.drop(['isMalware'], axis=1), new_cs_ex_sp_stunted_dataset['isMalware']\n",
    "results = combined_rf_clf.predict(new_cs_ex_sp_stunted_malicious_dataset_x)\n",
    "print('Random Forest Classifier Accuracy score: ', accuracy_score(new_cs_ex_sp_stunted_malicious_dataset_y, results))"
   ]
  },
  {
   "cell_type": "code",
   "execution_count": null,
   "metadata": {},
   "outputs": [],
   "source": [
    "#Cipher, extension, source port, and packets out stunted results\n",
    "new_cs_ex_sp_po_stunted_dataset = pd.read_csv('Insert cipher stunted file name')\n",
    "new_cs_ex_sp_po_stunted_dataset = new_cs_ex_sp_po_stunted_dataset[new_cs_ex_sp_po_stunted_dataset.duplicated(keep=False) == False]\n",
    "new_cs_ex_sp_po_stunted_dataset_x, new_cs_ex_sp_po_stunted_dataset_y = new_cs_ex_sp_po_stunted_dataset.drop(['isMalware'], axis=1), new_cs_ex_sp_po_stunted_dataset['isMalware']\n",
    "results = combined_rf_clf.predict(new_cs_ex_sp_po_stunted_dataset_x)\n",
    "print('Random Forest Classifier Accuracy score: ', accuracy_score(new_cs_ex_sp_po_stunted_dataset_y, results))"
   ]
  },
  {
   "cell_type": "code",
   "execution_count": null,
   "metadata": {},
   "outputs": [],
   "source": [
    "lm_predictions_cs_ex = combined_lm.predict(new_cs_ex_stunted_dataset_x)\n",
    "print('Accuracy score: ', accuracy_score(lm_predictions_cs_ex, new_cs_ex_stunted_dataset_y))"
   ]
  },
  {
   "cell_type": "code",
   "execution_count": null,
   "metadata": {},
   "outputs": [],
   "source": [
    "lm_predictions_cs_ex_sp = combined_lm.predict(new_cs_ex_sp_stunted_malicious_dataset_x)\n",
    "print('Accuracy score: ', accuracy_score(lm_predictions_cs_ex_sp, new_cs_ex_sp_stunted_malicious_dataset_y))"
   ]
  },
  {
   "cell_type": "code",
   "execution_count": null,
   "metadata": {},
   "outputs": [],
   "source": [
    "lm_predictions_cs_ex_sp_po = combined_lm.predict(new_cs_ex_sp_po_stunted_dataset_x)\n",
    "print('Accuracy score: ', accuracy_score(lm_predictions_cs_ex_sp_po, new_cs_ex_sp_po_stunted_dataset_y))"
   ]
  },
  {
   "cell_type": "code",
   "execution_count": null,
   "metadata": {},
   "outputs": [],
   "source": [
    "joblib.dump(combined_rf_clf, 'new_random_forest_model.pkl')\n",
    "joblib.dump(combined_lm, 'new_logistics_regression_classifier.pkl')"
   ]
  }
 ],
 "metadata": {
  "kernelspec": {
   "display_name": "Python 3",
   "language": "python",
   "name": "python3"
  },
  "language_info": {
   "codemirror_mode": {
    "name": "ipython",
    "version": 3
   },
   "file_extension": ".py",
   "mimetype": "text/x-python",
   "name": "python",
   "nbconvert_exporter": "python",
   "pygments_lexer": "ipython3",
   "version": "3.7.6"
  }
 },
 "nbformat": 4,
 "nbformat_minor": 4
}
